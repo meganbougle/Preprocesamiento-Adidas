{
 "cells": [
  {
   "cell_type": "code",
   "execution_count": 214,
   "metadata": {},
   "outputs": [],
   "source": [
    "import pandas as pd\n"
   ]
  },
  {
   "cell_type": "code",
   "execution_count": 215,
   "metadata": {},
   "outputs": [],
   "source": [
    "url=url = 'https://raw.githubusercontent.com/meganbougle/Adidas/main/Adidas.csv'\n",
    "df = pd.read_csv(url)\n"
   ]
  },
  {
   "cell_type": "code",
   "execution_count": 216,
   "metadata": {},
   "outputs": [
    {
     "name": "stdout",
     "output_type": "stream",
     "text": [
      "      Retailer  Retailer ID Invoice Date     Region     State      City  \\\n",
      "0  Foot Locker      1185732     1/1/2020  Northeast  New York  New York   \n",
      "1  Foot Locker      1185732     1/2/2020  Northeast  New York  New York   \n",
      "2  Foot Locker      1185732     1/3/2020  Northeast  New York  New York   \n",
      "3  Foot Locker      1185732     1/4/2020  Northeast  New York  New York   \n",
      "4  Foot Locker      1185732     1/5/2020  Northeast  New York  New York   \n",
      "\n",
      "                     Product Price per Unit Units Sold Total Sales  \\\n",
      "0      Men's Street Footwear        $50.00       1,200   $600,000    \n",
      "1    Men's Athletic Footwear        $50.00       1,000   $500,000    \n",
      "2    Women's Street Footwear        $40.00       1,000   $400,000    \n",
      "3  Women's Athletic Footwear        $45.00         850   $382,500    \n",
      "4              Men's Apparel        $60.00         900   $540,000    \n",
      "\n",
      "  Operating Profit Operating Margin Sales Method  \n",
      "0        $300,000               50%     In-store  \n",
      "1        $150,000               30%     In-store  \n",
      "2        $140,000               35%     In-store  \n",
      "3        $133,875               35%     In-store  \n",
      "4        $162,000               30%     In-store  \n"
     ]
    }
   ],
   "source": [
    "print(df.head())"
   ]
  },
  {
   "cell_type": "code",
   "execution_count": 217,
   "metadata": {},
   "outputs": [
    {
     "data": {
      "text/plain": [
       "(9648, 13)"
      ]
     },
     "execution_count": 217,
     "metadata": {},
     "output_type": "execute_result"
    }
   ],
   "source": [
    "df.shape"
   ]
  },
  {
   "cell_type": "code",
   "execution_count": 218,
   "metadata": {},
   "outputs": [
    {
     "name": "stdout",
     "output_type": "stream",
     "text": [
      "<class 'pandas.core.frame.DataFrame'>\n",
      "RangeIndex: 9648 entries, 0 to 9647\n",
      "Data columns (total 13 columns):\n",
      " #   Column            Non-Null Count  Dtype \n",
      "---  ------            --------------  ----- \n",
      " 0   Retailer          9648 non-null   object\n",
      " 1   Retailer ID       9648 non-null   int64 \n",
      " 2   Invoice Date      9648 non-null   object\n",
      " 3   Region            9648 non-null   object\n",
      " 4   State             9648 non-null   object\n",
      " 5   City              9648 non-null   object\n",
      " 6   Product           9648 non-null   object\n",
      " 7   Price per Unit    9648 non-null   object\n",
      " 8   Units Sold        9648 non-null   object\n",
      " 9   Total Sales       9648 non-null   object\n",
      " 10  Operating Profit  9648 non-null   object\n",
      " 11  Operating Margin  9648 non-null   object\n",
      " 12  Sales Method      9648 non-null   object\n",
      "dtypes: int64(1), object(12)\n",
      "memory usage: 980.0+ KB\n",
      "None\n"
     ]
    }
   ],
   "source": [
    "print(df.info())"
   ]
  },
  {
   "cell_type": "code",
   "execution_count": 219,
   "metadata": {},
   "outputs": [],
   "source": [
    "df['Invoice Date'] = pd.to_datetime(df['Invoice Date'])\n",
    "\n",
    "# Limpiar y convertir 'Price per Unit' a float\n",
    "df['Price per Unit'] = df['Price per Unit'].astype(str).str.replace('$', '').str.strip().astype(float)\n",
    "\n",
    "# Limpiar y convertir 'Units Sold' a int\n",
    "df['Units Sold'] = df['Units Sold'].astype(str).str.replace(',', '').str.strip().astype(int)\n",
    "\n",
    "# Limpiar y convertir 'Total Sales' a int\n",
    "df['Total Sales'] = df['Total Sales'].astype(str).str.replace('$', '').str.replace(',', '').str.strip().astype(int)\n",
    "\n",
    "# Limpiar y convertir 'Operating Profit' a float\n",
    "df['Operating Profit'] = df['Operating Profit'].astype(str).str.replace('$', '').str.replace(',', '').str.strip().astype(float)\n",
    "\n",
    "# Limpiar y convertir 'Operating Profit Margin' a float, eliminando el símbolo '%'\n",
    "df['Operating Margin'] = df['Operating Margin'].astype(str).str.replace('%', '').str.strip().astype(float)"
   ]
  },
  {
   "cell_type": "code",
   "execution_count": 220,
   "metadata": {},
   "outputs": [],
   "source": [
    "dforiginal = df.copy()"
   ]
  },
  {
   "cell_type": "code",
   "execution_count": 221,
   "metadata": {},
   "outputs": [
    {
     "name": "stdout",
     "output_type": "stream",
     "text": [
      "        Retailer ID                   Invoice Date  Price per Unit  \\\n",
      "count  9.648000e+03                           9648     9648.000000   \n",
      "mean   1.173850e+06  2021-05-10 15:20:44.776119296       45.216625   \n",
      "min    1.128299e+06            2020-01-01 00:00:00        7.000000   \n",
      "25%    1.185732e+06            2021-02-17 00:00:00       35.000000   \n",
      "50%    1.185732e+06            2021-06-04 00:00:00       45.000000   \n",
      "75%    1.185732e+06            2021-09-16 00:00:00       55.000000   \n",
      "max    1.197831e+06            2021-12-31 00:00:00      110.000000   \n",
      "std    2.636038e+04                            NaN       14.705397   \n",
      "\n",
      "        Units Sold    Total Sales  Operating Profit  Operating Margin  \n",
      "count  9648.000000    9648.000000       9648.000000       9648.000000  \n",
      "mean    256.930037   93273.437500      34425.269071         42.299129  \n",
      "min       0.000000       0.000000          0.000000         10.000000  \n",
      "25%     106.000000    4254.500000       1922.000000         35.000000  \n",
      "50%     176.000000    9576.000000       4371.500000         41.000000  \n",
      "75%     350.000000  150000.000000      52063.000000         49.000000  \n",
      "max    1275.000000  825000.000000     390000.000000         80.000000  \n",
      "std     214.252030  141916.016727      54193.121969          9.719742  \n"
     ]
    }
   ],
   "source": [
    "print(df.describe())"
   ]
  },
  {
   "cell_type": "code",
   "execution_count": 222,
   "metadata": {},
   "outputs": [
    {
     "name": "stdout",
     "output_type": "stream",
     "text": [
      "<class 'pandas.core.frame.DataFrame'>\n",
      "RangeIndex: 9648 entries, 0 to 9647\n",
      "Data columns (total 13 columns):\n",
      " #   Column            Non-Null Count  Dtype         \n",
      "---  ------            --------------  -----         \n",
      " 0   Retailer          9648 non-null   object        \n",
      " 1   Retailer ID       9648 non-null   int64         \n",
      " 2   Invoice Date      9648 non-null   datetime64[ns]\n",
      " 3   Region            9648 non-null   object        \n",
      " 4   State             9648 non-null   object        \n",
      " 5   City              9648 non-null   object        \n",
      " 6   Product           9648 non-null   object        \n",
      " 7   Price per Unit    9648 non-null   float64       \n",
      " 8   Units Sold        9648 non-null   int32         \n",
      " 9   Total Sales       9648 non-null   int32         \n",
      " 10  Operating Profit  9648 non-null   float64       \n",
      " 11  Operating Margin  9648 non-null   float64       \n",
      " 12  Sales Method      9648 non-null   object        \n",
      "dtypes: datetime64[ns](1), float64(3), int32(2), int64(1), object(6)\n",
      "memory usage: 904.6+ KB\n"
     ]
    }
   ],
   "source": [
    "df.info()"
   ]
  },
  {
   "cell_type": "code",
   "execution_count": 223,
   "metadata": {},
   "outputs": [
    {
     "data": {
      "text/html": [
       "<div>\n",
       "<style scoped>\n",
       "    .dataframe tbody tr th:only-of-type {\n",
       "        vertical-align: middle;\n",
       "    }\n",
       "\n",
       "    .dataframe tbody tr th {\n",
       "        vertical-align: top;\n",
       "    }\n",
       "\n",
       "    .dataframe thead th {\n",
       "        text-align: right;\n",
       "    }\n",
       "</style>\n",
       "<table border=\"1\" class=\"dataframe\">\n",
       "  <thead>\n",
       "    <tr style=\"text-align: right;\">\n",
       "      <th></th>\n",
       "      <th>Units Sold</th>\n",
       "      <th>Price per Unit</th>\n",
       "      <th>Operating Margin</th>\n",
       "    </tr>\n",
       "  </thead>\n",
       "  <tbody>\n",
       "    <tr>\n",
       "      <th>0</th>\n",
       "      <td>1200</td>\n",
       "      <td>50.0</td>\n",
       "      <td>50.0</td>\n",
       "    </tr>\n",
       "    <tr>\n",
       "      <th>1</th>\n",
       "      <td>1000</td>\n",
       "      <td>50.0</td>\n",
       "      <td>30.0</td>\n",
       "    </tr>\n",
       "    <tr>\n",
       "      <th>2</th>\n",
       "      <td>1000</td>\n",
       "      <td>40.0</td>\n",
       "      <td>35.0</td>\n",
       "    </tr>\n",
       "    <tr>\n",
       "      <th>3</th>\n",
       "      <td>850</td>\n",
       "      <td>45.0</td>\n",
       "      <td>35.0</td>\n",
       "    </tr>\n",
       "    <tr>\n",
       "      <th>4</th>\n",
       "      <td>900</td>\n",
       "      <td>60.0</td>\n",
       "      <td>30.0</td>\n",
       "    </tr>\n",
       "  </tbody>\n",
       "</table>\n",
       "</div>"
      ],
      "text/plain": [
       "   Units Sold  Price per Unit  Operating Margin\n",
       "0        1200            50.0              50.0\n",
       "1        1000            50.0              30.0\n",
       "2        1000            40.0              35.0\n",
       "3         850            45.0              35.0\n",
       "4         900            60.0              30.0"
      ]
     },
     "execution_count": 223,
     "metadata": {},
     "output_type": "execute_result"
    }
   ],
   "source": [
    "columnas_importantes=['Units Sold', 'Price per Unit', 'Operating Margin']\n",
    "df[columnas_importantes].head()"
   ]
  },
  {
   "cell_type": "code",
   "execution_count": 224,
   "metadata": {},
   "outputs": [
    {
     "name": "stdout",
     "output_type": "stream",
     "text": [
      "Retailer            0\n",
      "Retailer ID         0\n",
      "Invoice Date        0\n",
      "Region              0\n",
      "State               0\n",
      "City                0\n",
      "Product             0\n",
      "Price per Unit      0\n",
      "Units Sold          0\n",
      "Total Sales         0\n",
      "Operating Profit    0\n",
      "Operating Margin    0\n",
      "Sales Method        0\n",
      "dtype: int64\n"
     ]
    }
   ],
   "source": [
    "faltantes = df.isnull().sum()\n",
    "print(faltantes)"
   ]
  },
  {
   "cell_type": "code",
   "execution_count": 225,
   "metadata": {},
   "outputs": [],
   "source": [
    "#No hay valores faltante pero por si acaso\n",
    "numericos = df.select_dtypes(include=['number']).columns\n",
    "df.fillna(df[numericos].median(), inplace=True)"
   ]
  },
  {
   "cell_type": "code",
   "execution_count": 226,
   "metadata": {},
   "outputs": [],
   "source": [
    "import matplotlib.pyplot as plt\n",
    "import seaborn as sns\n",
    "import numpy as np"
   ]
  },
  {
   "cell_type": "code",
   "execution_count": 227,
   "metadata": {},
   "outputs": [
    {
     "data": {
      "image/png": "[encoded data removed]",
      "text/plain": [
       "<Figure size 640x480 with 1 Axes>"
      ]
     },
     "metadata": {},
     "output_type": "display_data"
    }
   ],
   "source": [
    "sns.boxplot (x=df['Units Sold'])\n",
    "plt.show()"
   ]
  },
  {
   "cell_type": "code",
   "execution_count": 228,
   "metadata": {},
   "outputs": [
    {
     "data": {
      "image/png": "[encoded data removed]",
      "text/plain": [
       "<Figure size 640x480 with 1 Axes>"
      ]
     },
     "metadata": {},
     "output_type": "display_data"
    }
   ],
   "source": [
    "sns.boxplot (x=df['Price per Unit'])\n",
    "plt.show()"
   ]
  },
  {
   "cell_type": "code",
   "execution_count": 229,
   "metadata": {},
   "outputs": [
    {
     "data": {
      "image/png": "[encoded data removed]",
      "text/plain": [
       "<Figure size 640x480 with 1 Axes>"
      ]
     },
     "metadata": {},
     "output_type": "display_data"
    }
   ],
   "source": [
    "sns.boxplot(x=df['Operating Margin'])\n",
    "plt.show()"
   ]
  },
  {
   "cell_type": "code",
   "execution_count": 230,
   "metadata": {},
   "outputs": [],
   "source": [
    "from scipy import stats\n",
    "Q1 = df['Units Sold'].quantile(0.25)\n",
    "Q3 = df['Units Sold'].quantile(0.75)\n",
    "IQR = Q3 - Q1\n",
    "df_cleaned = df[(df['Units Sold'] >= (Q1 - 1.5 * IQR)) & (df['Units Sold'] <= (Q3 + 1.5 * IQR))]\n",
    "df = df[(np.abs(stats.zscore(df['Price per Unit'])) < 3)]\n",
    "df = df[(np.abs(stats.zscore(df['Operating Margin'])) < 3)]\n"
   ]
  },
  {
   "cell_type": "code",
   "execution_count": 231,
   "metadata": {},
   "outputs": [
    {
     "data": {
      "text/plain": [
       "<Axes: xlabel='Units Sold'>"
      ]
     },
     "execution_count": 231,
     "metadata": {},
     "output_type": "execute_result"
    },
    {
     "data": {
      "image/png": "[encoded data removed]",
      "text/plain": [
       "<Figure size 640x480 with 1 Axes>"
      ]
     },
     "metadata": {},
     "output_type": "display_data"
    }
   ],
   "source": [
    "sns.boxplot(x=df['Units Sold'])"
   ]
  },
  {
   "cell_type": "code",
   "execution_count": 232,
   "metadata": {},
   "outputs": [
    {
     "data": {
      "text/plain": [
       "<Axes: xlabel='Price per Unit'>"
      ]
     },
     "execution_count": 232,
     "metadata": {},
     "output_type": "execute_result"
    },
    {
     "data": {
      "image/png": "[encoded data removed]",
      "text/plain": [
       "<Figure size 640x480 with 1 Axes>"
      ]
     },
     "metadata": {},
     "output_type": "display_data"
    }
   ],
   "source": [
    "sns.boxplot(x=df['Price per Unit'])"
   ]
  },
  {
   "cell_type": "code",
   "execution_count": 233,
   "metadata": {},
   "outputs": [
    {
     "data": {
      "text/plain": [
       "<Axes: xlabel='Operating Margin'>"
      ]
     },
     "execution_count": 233,
     "metadata": {},
     "output_type": "execute_result"
    },
    {
     "data": {
      "image/png": "[encoded data removed]",
      "text/plain": [
       "<Figure size 640x480 with 1 Axes>"
      ]
     },
     "metadata": {},
     "output_type": "display_data"
    }
   ],
   "source": [
    "sns.boxplot(x=df['Operating Margin'])"
   ]
  },
  {
   "cell_type": "code",
   "execution_count": 234,
   "metadata": {},
   "outputs": [
    {
     "name": "stdout",
     "output_type": "stream",
     "text": [
      "   Units Sold  Units Sold Scaled  Units Sold Normalized  Price per Unit  \\\n",
      "0        1200           4.432373               0.941176            50.0   \n",
      "1        1000           3.493913               0.784314            50.0   \n",
      "2        1000           3.493913               0.784314            40.0   \n",
      "3         850           2.790068               0.666667            45.0   \n",
      "4         900           3.024683               0.705882            60.0   \n",
      "\n",
      "   Price per Unit Scaled  Price per Unit Normalized  Operating Margin  \\\n",
      "0               0.362161                   0.524390              50.0   \n",
      "1               0.362161                   0.524390              30.0   \n",
      "2              -0.343595                   0.402439              35.0   \n",
      "3               0.009283                   0.463415              35.0   \n",
      "4               1.067917                   0.646341              30.0   \n",
      "\n",
      "   Operating Margin Scaled  Operating Margin Normalized  \n",
      "0                 0.815227                     0.625000  \n",
      "1                -1.286589                     0.267857  \n",
      "2                -0.761135                     0.357143  \n",
      "3                -0.761135                     0.357143  \n",
      "4                -1.286589                     0.267857  \n"
     ]
    }
   ],
   "source": [
    "from sklearn.preprocessing import StandardScaler, MinMaxScaler\n",
    "scaler = StandardScaler()\n",
    "df['Units Sold Scaled'] = scaler.fit_transform(df['Units Sold'].values.reshape(-1,1))\n",
    "df['Price per Unit Scaled'] = scaler.fit_transform(df['Price per Unit'].values.reshape(-1,1))\n",
    "df['Operating Margin Scaled'] = scaler.fit_transform(df['Operating Margin'].values.reshape(-1,1))\n",
    "\n",
    "min_max_scaler = MinMaxScaler()\n",
    "df['Units Sold Normalized'] = min_max_scaler.fit_transform(df['Units Sold'].values.reshape(-1,1))\n",
    "df['Price per Unit Normalized'] = min_max_scaler.fit_transform(df['Price per Unit'].values.reshape(-1,1))\n",
    "df['Operating Margin Normalized'] = min_max_scaler.fit_transform(df['Operating Margin'].values.reshape(-1,1))\n",
    "\n",
    "print((df[['Units Sold', 'Units Sold Scaled', 'Units Sold Normalized', 'Price per Unit', 'Price per Unit Scaled', 'Price per Unit Normalized', 'Operating Margin', 'Operating Margin Scaled', 'Operating Margin Normalized']]).head())"
   ]
  },
  {
   "cell_type": "code",
   "execution_count": 235,
   "metadata": {},
   "outputs": [
    {
     "name": "stdout",
     "output_type": "stream",
     "text": [
      "   Total Sales  Operating Profit  Operating Margin Relative\n",
      "0      60000.0           30000.0                       0.50\n",
      "1      50000.0           15000.0                       0.30\n",
      "2      40000.0           14000.0                       0.35\n",
      "3      38250.0           13387.5                       0.35\n",
      "4      54000.0           16200.0                       0.30\n"
     ]
    }
   ],
   "source": [
    "df['Total Sales']=df['Units Sold']*df['Price per Unit']\n",
    "df['Operating Profit']=df['Total Sales']*df['Operating Margin']/100\n",
    "df['Operating Margin Relative'] = df['Operating Profit'] / df['Total Sales']\n",
    "print(df[['Total Sales', 'Operating Profit', 'Operating Margin Relative']].head())"
   ]
  },
  {
   "cell_type": "code",
   "execution_count": 236,
   "metadata": {},
   "outputs": [
    {
     "name": "stdout",
     "output_type": "stream",
     "text": [
      "      Retailer  Retailer ID Invoice Date     Region     State      City  \\\n",
      "0  Foot Locker      1185732   2020-01-01  Northeast  New York  New York   \n",
      "1  Foot Locker      1185732   2020-01-02  Northeast  New York  New York   \n",
      "2  Foot Locker      1185732   2020-01-03  Northeast  New York  New York   \n",
      "3  Foot Locker      1185732   2020-01-04  Northeast  New York  New York   \n",
      "4  Foot Locker      1185732   2020-01-05  Northeast  New York  New York   \n",
      "\n",
      "   Price per Unit  Units Sold  Total Sales  Operating Profit  ...  \\\n",
      "0            50.0        1200      60000.0           30000.0  ...   \n",
      "1            50.0        1000      50000.0           15000.0  ...   \n",
      "2            40.0        1000      40000.0           14000.0  ...   \n",
      "3            45.0         850      38250.0           13387.5  ...   \n",
      "4            60.0         900      54000.0           16200.0  ...   \n",
      "\n",
      "   Units Sold Normalized Price per Unit Normalized  \\\n",
      "0               0.941176                  0.524390   \n",
      "1               0.784314                  0.524390   \n",
      "2               0.784314                  0.402439   \n",
      "3               0.666667                  0.463415   \n",
      "4               0.705882                  0.646341   \n",
      "\n",
      "   Operating Margin Normalized  Operating Margin Relative  \\\n",
      "0                     0.625000                       0.50   \n",
      "1                     0.267857                       0.30   \n",
      "2                     0.357143                       0.35   \n",
      "3                     0.357143                       0.35   \n",
      "4                     0.267857                       0.30   \n",
      "\n",
      "   Product_Men's Apparel  Product_Men's Athletic Footwear  \\\n",
      "0                  False                            False   \n",
      "1                  False                             True   \n",
      "2                  False                            False   \n",
      "3                  False                            False   \n",
      "4                   True                            False   \n",
      "\n",
      "   Product_Men's Street Footwear  Product_Women's Apparel  \\\n",
      "0                           True                    False   \n",
      "1                          False                    False   \n",
      "2                          False                    False   \n",
      "3                          False                    False   \n",
      "4                          False                    False   \n",
      "\n",
      "   Product_Women's Athletic Footwear  Product_Women's Street Footwear  \n",
      "0                              False                            False  \n",
      "1                              False                            False  \n",
      "2                              False                             True  \n",
      "3                               True                            False  \n",
      "4                              False                            False  \n",
      "\n",
      "[5 rows x 25 columns]\n"
     ]
    }
   ],
   "source": [
    "df = pd.get_dummies(df, columns=['Product'])\n",
    "print(df.head())"
   ]
  },
  {
   "cell_type": "code",
   "execution_count": 237,
   "metadata": {},
   "outputs": [
    {
     "name": "stdout",
     "output_type": "stream",
     "text": [
      "Antes del preprocesamiento:\n",
      "        Retailer ID                   Invoice Date  Price per Unit  \\\n",
      "count  9.648000e+03                           9648     9648.000000   \n",
      "mean   1.173850e+06  2021-05-10 15:20:44.776119296       45.216625   \n",
      "min    1.128299e+06            2020-01-01 00:00:00        7.000000   \n",
      "25%    1.185732e+06            2021-02-17 00:00:00       35.000000   \n",
      "50%    1.185732e+06            2021-06-04 00:00:00       45.000000   \n",
      "75%    1.185732e+06            2021-09-16 00:00:00       55.000000   \n",
      "max    1.197831e+06            2021-12-31 00:00:00      110.000000   \n",
      "std    2.636038e+04                            NaN       14.705397   \n",
      "\n",
      "        Units Sold    Total Sales  Operating Profit  Operating Margin  \n",
      "count  9648.000000    9648.000000       9648.000000       9648.000000  \n",
      "mean    256.930037   93273.437500      34425.269071         42.299129  \n",
      "min       0.000000       0.000000          0.000000         10.000000  \n",
      "25%     106.000000    4254.500000       1922.000000         35.000000  \n",
      "50%     176.000000    9576.000000       4371.500000         41.000000  \n",
      "75%     350.000000  150000.000000      52063.000000         49.000000  \n",
      "max    1275.000000  825000.000000     390000.000000         80.000000  \n",
      "std     214.252030  141916.016727      54193.121969          9.719742  \n",
      "Después del preprocesamiento:\n",
      "        Retailer ID                   Invoice Date  Price per Unit  \\\n",
      "count  9.549000e+03                           9549     9549.000000   \n",
      "mean   1.174126e+06  2021-05-10 12:04:54.062205440       44.868468   \n",
      "min    1.128299e+06            2020-01-01 00:00:00        7.000000   \n",
      "25%    1.185732e+06            2021-02-17 00:00:00       35.000000   \n",
      "50%    1.185732e+06            2021-06-03 00:00:00       45.000000   \n",
      "75%    1.185732e+06            2021-09-16 00:00:00       55.000000   \n",
      "max    1.197831e+06            2021-12-31 00:00:00       89.000000   \n",
      "std    2.617602e+04                            NaN       14.169942   \n",
      "\n",
      "        Units Sold   Total Sales  Operating Profit  Operating Margin  \\\n",
      "count  9549.000000   9549.000000       9549.000000       9549.000000   \n",
      "mean    255.394387  12213.628024       4812.841709         42.242643   \n",
      "min       0.000000      0.000000          0.000000         15.000000   \n",
      "25%     106.000000   4050.000000       1748.400000         35.000000   \n",
      "50%     176.000000   7735.000000       3232.320000         41.000000   \n",
      "75%     333.000000  15750.000000       6125.000000         49.000000   \n",
      "max    1275.000000  78000.000000      39000.000000         71.000000   \n",
      "std     213.126279  12255.563274       4736.435569          9.516081   \n",
      "\n",
      "       Units Sold Scaled  Price per Unit Scaled  Operating Margin Scaled  \\\n",
      "count       9.549000e+03           9.549000e+03             9.549000e+03   \n",
      "mean        2.381126e-17          -1.309619e-16            -1.756080e-16   \n",
      "min        -1.198387e+00          -2.672590e+00            -2.862951e+00   \n",
      "25%        -7.010032e-01          -6.964732e-01            -7.611350e-01   \n",
      "50%        -3.725423e-01           9.282958e-03            -1.305903e-01   \n",
      "75%         3.641488e-01           7.150391e-01             7.101359e-01   \n",
      "max         4.784295e+00           3.114610e+00             3.022133e+00   \n",
      "std         1.000052e+00           1.000052e+00             1.000052e+00   \n",
      "\n",
      "       Units Sold Normalized  Price per Unit Normalized  \\\n",
      "count            9549.000000                9549.000000   \n",
      "mean                0.200309                   0.461811   \n",
      "min                 0.000000                   0.000000   \n",
      "25%                 0.083137                   0.341463   \n",
      "50%                 0.138039                   0.463415   \n",
      "75%                 0.261176                   0.585366   \n",
      "max                 1.000000                   1.000000   \n",
      "std                 0.167158                   0.172804   \n",
      "\n",
      "       Operating Margin Normalized  Operating Margin Relative  \n",
      "count                  9549.000000                9545.000000  \n",
      "mean                      0.486476                   0.422406  \n",
      "min                       0.000000                   0.150000  \n",
      "25%                       0.357143                   0.350000  \n",
      "50%                       0.464286                   0.410000  \n",
      "75%                       0.607143                   0.490000  \n",
      "max                       1.000000                   0.710000  \n",
      "std                       0.169930                   0.095165  \n"
     ]
    }
   ],
   "source": [
    "print(\"Antes del preprocesamiento:\")\n",
    "print(dforiginal.describe())\n",
    "print(\"Después del preprocesamiento:\")\n",
    "print(df.describe())\n"
   ]
  }
 ],
 "metadata": {
  "kernelspec": {
   "display_name": "Python 3",
   "language": "python",
   "name": "python3"
  },
  "language_info": {
   "codemirror_mode": {
    "name": "ipython",
    "version": 3
   },
   "file_extension": ".py",
   "mimetype": "text/x-python",
   "name": "python",
   "nbconvert_exporter": "python",
   "pygments_lexer": "ipython3",
   "version": "3.12.3"
  }
 },
 "nbformat": 4,
 "nbformat_minor": 2
}
